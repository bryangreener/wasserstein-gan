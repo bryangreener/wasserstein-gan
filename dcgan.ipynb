{
 "cells": [
  {
   "cell_type": "markdown",
   "metadata": {},
   "source": [
    "# START OF DEBUGGING CODE\n",
    "\n",
    "---"
   ]
  },
  {
   "cell_type": "markdown",
   "metadata": {},
   "source": [
    "# Confirm TensorFlow can see the GPU\n",
    "\n",
    "Simply select \"GPU\" in the Accelerator drop-down in Notebook Settings (either through the Edit menu or the command palette at cmd/ctrl-shift-P)."
   ]
  },
  {
   "cell_type": "code",
   "execution_count": 1,
   "metadata": {},
   "outputs": [],
   "source": [
    "import tensorflow as tf"
   ]
  },
  {
   "cell_type": "code",
   "execution_count": 2,
   "metadata": {},
   "outputs": [
    {
     "name": "stdout",
     "output_type": "stream",
     "text": [
      "Found GPU at: /device:GPU:0\n"
     ]
    }
   ],
   "source": [
    "device_name = tf.test.gpu_device_name()\n",
    "if device_name != '/device:GPU:0':\n",
    "  raise SystemError('GPU device not found')\n",
    "print('Found GPU at: {}'.format(device_name))"
   ]
  },
  {
   "cell_type": "markdown",
   "metadata": {},
   "source": [
    "# Observe TensorFlow speedup on GPU relative to CPU\n",
    "\n",
    "This example constructs a typical convolutional neural network layer over a\n",
    "random image and manually places the resulting ops on either the CPU or the GPU\n",
    "to compare execution speed."
   ]
  },
  {
   "cell_type": "code",
   "execution_count": 2,
   "metadata": {},
   "outputs": [
    {
     "name": "stdout",
     "output_type": "stream",
     "text": [
      "Time (s) to convolve 32x7x7x3 filter over random 100x100x100x3 images (batch x height x width x channel). Sum of ten runs.\n",
      "CPU (s):\n",
      "8.832865323998703\n",
      "GPU (s):\n",
      "0.7966653179992136\n",
      "GPU speedup over CPU: 11x\n"
     ]
    }
   ],
   "source": [
    "import tensorflow as tf\n",
    "import timeit\n",
    "\n",
    "# See https://www.tensorflow.org/tutorials/using_gpu#allowing_gpu_memory_growth\n",
    "config = tf.ConfigProto()\n",
    "config.gpu_options.allow_growth = True\n",
    "\n",
    "with tf.device('/cpu:0'):\n",
    "  random_image_cpu = tf.random_normal((100, 100, 100, 3))\n",
    "  net_cpu = tf.layers.conv2d(random_image_cpu, 32, 7)\n",
    "  net_cpu = tf.reduce_sum(net_cpu)\n",
    "\n",
    "with tf.device('/gpu:0'):\n",
    "  random_image_gpu = tf.random_normal((100, 100, 100, 3))\n",
    "  net_gpu = tf.layers.conv2d(random_image_gpu, 32, 7)\n",
    "  net_gpu = tf.reduce_sum(net_gpu)\n",
    "\n",
    "sess = tf.Session(config=config)\n",
    "\n",
    "# Test execution once to detect errors early.\n",
    "try:\n",
    "  sess.run(tf.global_variables_initializer())\n",
    "except tf.errors.InvalidArgumentError:\n",
    "  print(\n",
    "      '\\n\\nThis error most likely means that this notebook is not '\n",
    "      'configured to use a GPU.  Change this in Notebook Settings via the '\n",
    "      'command palette (cmd/ctrl-shift-P) or the Edit menu.\\n\\n')\n",
    "  raise\n",
    "\n",
    "def cpu():\n",
    "  sess.run(net_cpu)\n",
    "  \n",
    "def gpu():\n",
    "  sess.run(net_gpu)\n",
    "  \n",
    "# Runs the op several times.\n",
    "print('Time (s) to convolve 32x7x7x3 filter over random 100x100x100x3 images '\n",
    "      '(batch x height x width x channel). Sum of ten runs.')\n",
    "print('CPU (s):')\n",
    "cpu_time = timeit.timeit('cpu()', number=10, setup=\"from __main__ import cpu\")\n",
    "print(cpu_time)\n",
    "print('GPU (s):')\n",
    "gpu_time = timeit.timeit('gpu()', number=10, setup=\"from __main__ import gpu\")\n",
    "print(gpu_time)\n",
    "print('GPU speedup over CPU: {}x'.format(int(cpu_time/gpu_time)))\n",
    "\n",
    "sess.close()"
   ]
  },
  {
   "cell_type": "code",
   "execution_count": 3,
   "metadata": {},
   "outputs": [
    {
     "data": {
      "text/plain": [
       "'1.7.0'"
      ]
     },
     "execution_count": 3,
     "metadata": {},
     "output_type": "execute_result"
    }
   ],
   "source": [
    "tf.__version__"
   ]
  },
  {
   "cell_type": "code",
   "execution_count": 4,
   "metadata": {},
   "outputs": [
    {
     "name": "stdout",
     "output_type": "stream",
     "text": [
      "Keras                             2.1.6      \r\n"
     ]
    }
   ],
   "source": [
    "!pip list | grep -ib keras"
   ]
  },
  {
   "cell_type": "markdown",
   "metadata": {},
   "source": [
    "---\n",
    "\n",
    "# END OF DEBUGGING CODE\n",
    "\n",
    "---"
   ]
  },
  {
   "cell_type": "markdown",
   "metadata": {},
   "source": [
    "# Generative Adversarial Networks in Keras 2"
   ]
  },
  {
   "cell_type": "code",
   "execution_count": 6,
   "metadata": {},
   "outputs": [],
   "source": [
    "%matplotlib inline\n",
    "import importlib\n",
    "import utils2; importlib.reload(utils2)\n",
    "from utils2 import *\n",
    "\n",
    "from tqdm import tqdm"
   ]
  },
  {
   "cell_type": "code",
   "execution_count": 30,
   "metadata": {},
   "outputs": [],
   "source": [
    "tqdm.monitor_interval = 0"
   ]
  },
  {
   "cell_type": "markdown",
   "metadata": {},
   "source": [
    "## The original GAN!"
   ]
  },
  {
   "cell_type": "markdown",
   "metadata": {},
   "source": [
    "See [this paper](https://arxiv.org/abs/1406.2661) for details of the approach we'll try first for our first GAN. We'll see if we can generate hand-drawn numbers based on MNIST, so let's load that dataset first.\n",
    "\n",
    "We'll be refering to the discriminator as 'D' and the generator as 'G'."
   ]
  },
  {
   "cell_type": "code",
   "execution_count": 7,
   "metadata": {},
   "outputs": [],
   "source": [
    "from keras.datasets import mnist"
   ]
  },
  {
   "cell_type": "code",
   "execution_count": 8,
   "metadata": {},
   "outputs": [
    {
     "name": "stdout",
     "output_type": "stream",
     "text": [
      "Downloading data from https://s3.amazonaws.com/img-datasets/mnist.npz\n",
      "11493376/11490434 [==============================] - 0s 0us/step\n"
     ]
    }
   ],
   "source": [
    "(X_train, y_train), (X_test, y_test) = mnist.load_data()"
   ]
  },
  {
   "cell_type": "code",
   "execution_count": 9,
   "metadata": {},
   "outputs": [
    {
     "data": {
      "text/plain": [
       "(60000, 28, 28)"
      ]
     },
     "execution_count": 9,
     "metadata": {},
     "output_type": "execute_result"
    }
   ],
   "source": [
    "X_train.shape"
   ]
  },
  {
   "cell_type": "code",
   "execution_count": 10,
   "metadata": {},
   "outputs": [],
   "source": [
    "n = len(X_train)"
   ]
  },
  {
   "cell_type": "code",
   "execution_count": 11,
   "metadata": {},
   "outputs": [],
   "source": [
    "X_train = X_train.reshape(n, -1).astype(np.float32)\n",
    "X_test = X_test.reshape(len(X_test), -1).astype(np.float32)"
   ]
  },
  {
   "cell_type": "code",
   "execution_count": 12,
   "metadata": {},
   "outputs": [],
   "source": [
    "X_train /= 255.\n",
    "X_test /= 255."
   ]
  },
  {
   "cell_type": "markdown",
   "metadata": {},
   "source": [
    "## Train"
   ]
  },
  {
   "cell_type": "markdown",
   "metadata": {},
   "source": [
    "This is just a helper to plot a bunch of generated images."
   ]
  },
  {
   "cell_type": "code",
   "execution_count": 13,
   "metadata": {},
   "outputs": [],
   "source": [
    "def plot_gen(G, n_ex=16):\n",
    "    plot_multi(G.predict(noise(n_ex)).reshape(n_ex, 28,28), cmap='gray')"
   ]
  },
  {
   "cell_type": "markdown",
   "metadata": {},
   "source": [
    "Create some random data for the generator."
   ]
  },
  {
   "cell_type": "code",
   "execution_count": 14,
   "metadata": {},
   "outputs": [],
   "source": [
    "def noise(bs):\n",
    "    return np.random.rand(bs,100)"
   ]
  },
  {
   "cell_type": "markdown",
   "metadata": {},
   "source": [
    "Create a batch of some real and some generated data, with appropriate labels, for the discriminator."
   ]
  },
  {
   "cell_type": "code",
   "execution_count": 15,
   "metadata": {},
   "outputs": [],
   "source": [
    "def data_D(sz, G):\n",
    "    real_img = X_train[np.random.randint(0,n,size=sz)]\n",
    "    X = np.concatenate((real_img, G.predict(noise(sz))))\n",
    "    return X, [0]*sz + [1]*sz"
   ]
  },
  {
   "cell_type": "code",
   "execution_count": 25,
   "metadata": {},
   "outputs": [],
   "source": [
    "def make_trainable(net, val):\n",
    "    net.trainable = val\n",
    "    for l in net.layers:\n",
    "        l.trainable = val"
   ]
  },
  {
   "cell_type": "markdown",
   "metadata": {},
   "source": [
    "Train a few epochs, and return the losses for D and G. In each epoch we:\n",
    "\n",
    "1. Train D on one batch from data_D()\n",
    "2. Train G to create images that the discriminator predicts as real."
   ]
  },
  {
   "cell_type": "code",
   "execution_count": 26,
   "metadata": {},
   "outputs": [],
   "source": [
    "def train(D, G, m, nb_epoch=5000, bs=128):\n",
    "    dl, gl=[], []\n",
    "    for e in tqdm(range(nb_epoch)):\n",
    "        X, y = data_D(bs//2, G)\n",
    "        dl.append(D.train_on_batch(X, y))\n",
    "        make_trainable(D, False)\n",
    "        gl.append(m.train_on_batch(noise(bs), np.zeros([bs])))\n",
    "        make_trainable(D, True)\n",
    "    return dl, gl"
   ]
  },
  {
   "cell_type": "markdown",
   "metadata": {},
   "source": [
    "## MLP GAN"
   ]
  },
  {
   "cell_type": "markdown",
   "metadata": {},
   "source": [
    "We'll keep things simple by making D & G plain ole' MLPs."
   ]
  },
  {
   "cell_type": "code",
   "execution_count": 27,
   "metadata": {},
   "outputs": [],
   "source": [
    "MLP_G = Sequential([\n",
    "    Dense(200, input_shape=(100,), activation='relu'),\n",
    "    Dense(400, activation='relu'),\n",
    "    Dense(784, activation='sigmoid'),\n",
    "])"
   ]
  },
  {
   "cell_type": "code",
   "execution_count": 28,
   "metadata": {},
   "outputs": [],
   "source": [
    "MLP_D = Sequential([\n",
    "    Dense(300, input_shape=(784,), activation='relu'),\n",
    "    Dense(300, activation='relu'),\n",
    "    Dense(1, activation='sigmoid'),\n",
    "])\n",
    "MLP_D.compile(Adam(1e-4), \"binary_crossentropy\")"
   ]
  },
  {
   "cell_type": "code",
   "execution_count": 29,
   "metadata": {},
   "outputs": [],
   "source": [
    "MLP_m = Sequential([MLP_G,MLP_D])\n",
    "MLP_m.compile(Adam(1e-4), \"binary_crossentropy\")"
   ]
  },
  {
   "cell_type": "code",
   "execution_count": 21,
   "metadata": {},
   "outputs": [
    {
     "name": "stderr",
     "output_type": "stream",
     "text": [
      "  0%|          | 0/8000 [00:00<?, ?it/s]/usr/local/lib/python3.6/dist-packages/keras/engine/training.py:975: UserWarning: Discrepancy between trainable weights and collected trainable weights, did you set `model.trainable` without calling `model.compile` after ?\n",
      "  'Discrepancy between trainable weights and collected trainable'\n",
      "  6%|▌         | 471/8000 [00:09<02:38, 47.43it/s]/usr/local/lib/python3.6/dist-packages/tqdm/_monitor.py:89: TqdmSynchronisationWarning: Set changed size during iteration (see https://github.com/tqdm/tqdm/issues/481)\n",
      "  TqdmSynchronisationWarning)\n",
      "100%|██████████| 8000/8000 [02:26<00:00, 54.45it/s]\n"
     ]
    }
   ],
   "source": [
    "dl, gl = train(MLP_D, MLP_G, MLP_m, 8000)"
   ]
  },
  {
   "cell_type": "markdown",
   "metadata": {},
   "source": [
    "During training, received warning that says `/path/to/keras/engine/training.py:973: UserWarning: Discrepancy between trainable weights and collected trainable weights, did you set model.trainable without calling model.compile after ?` Refer to GitHub [issue](https://github.com/keras-team/keras/issues/8585)."
   ]
  },
  {
   "cell_type": "markdown",
   "metadata": {},
   "source": [
    "tqdm is throwing a warning that says `TqdmSynchronisationWarning: Set changed size during iteration (see https://github.com/tqdm/tqdm/issues/481)`.\n",
    "\n",
    "The workaround is disable the monitor thread by doing:\n",
    "\n",
    "`tqdm.monitor_interval = 0`\n",
    "\n",
    "before the rest of your code."
   ]
  },
  {
   "cell_type": "code",
   "execution_count": 31,
   "metadata": {},
   "outputs": [
    {
     "name": "stderr",
     "output_type": "stream",
     "text": [
      "  0%|          | 0/8000 [00:00<?, ?it/s]/usr/local/lib/python3.6/dist-packages/keras/engine/training.py:975: UserWarning: Discrepancy between trainable weights and collected trainable weights, did you set `model.trainable` without calling `model.compile` after ?\n",
      "  'Discrepancy between trainable weights and collected trainable'\n",
      "100%|██████████| 8000/8000 [02:27<00:00, 54.30it/s]\n"
     ]
    }
   ],
   "source": [
    "dl, gl = train(MLP_D, MLP_G, MLP_m, 8000)"
   ]
  },
  {
   "cell_type": "markdown",
   "metadata": {},
   "source": [
    "The loss plots for most GANs are nearly impossible to interpret - which is one of the things that make them hard to train."
   ]
  },
  {
   "cell_type": "code",
   "execution_count": 32,
   "metadata": {},
   "outputs": [
    {
     "data": {
      "text/plain": [
       "[<matplotlib.lines.Line2D at 0x7f0abd213eb8>]"
      ]
     },
     "execution_count": 32,
     "metadata": {},
     "output_type": "execute_result"
    },
    {
     "data": {
      "image/png": "[encoded data removed]",
      "text/plain": [
       "<matplotlib.figure.Figure at 0x7f0abec2f7f0>"
      ]
     },
     "metadata": {},
     "output_type": "display_data"
    }
   ],
   "source": [
    "plt.plot(dl[100:])"
   ]
  },
  {
   "cell_type": "code",
   "execution_count": 33,
   "metadata": {},
   "outputs": [
    {
     "data": {
      "text/plain": [
       "[<matplotlib.lines.Line2D at 0x7f0abb1d86a0>]"
      ]
     },
     "execution_count": 33,
     "metadata": {},
     "output_type": "execute_result"
    },
    {
     "data": {
      "image/png": "[encoded data removed]",
      "text/plain": [
       "<matplotlib.figure.Figure at 0x7f0abf056b38>"
      ]
     },
     "metadata": {},
     "output_type": "display_data"
    }
   ],
   "source": [
    "plt.plot(gl[100:])"
   ]
  },
  {
   "cell_type": "markdown",
   "metadata": {},
   "source": [
    "This is what's known in the literature as \"mode collapse\"."
   ]
  },
  {
   "cell_type": "code",
   "execution_count": 35,
   "metadata": {},
   "outputs": [
    {
     "data": {
      "image/png": "[encoded data removed]",
      "text/plain": [
       "<matplotlib.figure.Figure at 0x7f0abb06d278>"
      ]
     },
     "metadata": {},
     "output_type": "display_data"
    }
   ],
   "source": [
    "plot_gen(MLP_G)"
   ]
  },
  {
   "cell_type": "markdown",
   "metadata": {},
   "source": [
    "OK, so that didn't work. Can we do better?..."
   ]
  },
  {
   "cell_type": "markdown",
   "metadata": {},
   "source": [
    "## DCGAN"
   ]
  },
  {
   "cell_type": "markdown",
   "metadata": {},
   "source": [
    "There's lots of ideas out there to make GANs train better, since they are notoriously painful to get working. The [paper introducing DCGANs](https://arxiv.org/abs/1511.06434) is the main basis for our next section. And see https://github.com/soumith/ganhacks for many tips!\n",
    "\n",
    "Because we're using a CNN from now on, we'll reshape our digits into proper images."
   ]
  },
  {
   "cell_type": "code",
   "execution_count": 37,
   "metadata": {},
   "outputs": [],
   "source": [
    "X_train = X_train.reshape(n, 28, 28, 1)"
   ]
  },
  {
   "cell_type": "code",
   "execution_count": 40,
   "metadata": {},
   "outputs": [],
   "source": [
    "assert(X_train.shape == (n, 28, 28, 1))"
   ]
  },
  {
   "cell_type": "code",
   "execution_count": 41,
   "metadata": {},
   "outputs": [],
   "source": [
    "X_test = X_test.reshape(len(X_test), 28, 28, 1)"
   ]
  },
  {
   "cell_type": "code",
   "execution_count": 42,
   "metadata": {},
   "outputs": [],
   "source": [
    "assert(X_test.shape == (len(X_test), 28, 28, 1))"
   ]
  },
  {
   "cell_type": "markdown",
   "metadata": {},
   "source": [
    "Our generator uses a number of upsampling steps as suggested in the above papers. We use nearest neighbor upsampling rather than fractionally strided convolutions, as discussed in our style transfer notebook."
   ]
  },
  {
   "cell_type": "markdown",
   "metadata": {},
   "source": [
    "### Start of Migrations to Keras 2\n",
    "\n",
    "---"
   ]
  },
  {
   "cell_type": "code",
   "execution_count": 44,
   "metadata": {},
   "outputs": [],
   "source": [
    "act = keras.layers.advanced_activations.LeakyReLU()"
   ]
  },
  {
   "cell_type": "markdown",
   "metadata": {},
   "source": [
    "Received `UserWarning: Do not pass a layer instance (such as LeakyReLU) as the activation argument of another layer. Instead, advanced activation layers should be used just like any other layer in a model.`\n",
    "\n",
    "https://stackoverflow.com/questions/34717241/how-to-use-advanced-activation-layers-in-keras"
   ]
  },
  {
   "cell_type": "markdown",
   "metadata": {},
   "source": [
    "Received \"UserWarning: Update your `Conv2D` call to the Keras 2 API.\".\n",
    "\n",
    "Fixes:\n",
    "- https://github.com/keras-team/keras/issues/9259\n",
    "- https://github.com/keras-team/keras/wiki/Keras-2.0-release-notes#convolutional-layers\n",
    "\n",
    "Received \"UserWarning: Do not pass a layer instance (such as LeakyReLU) as the activation argument of another layer. Instead, advanced activation layers should be used just like any other layer in a model.\""
   ]
  },
  {
   "cell_type": "markdown",
   "metadata": {},
   "source": [
    "Received \"TypeError: The `mode` argument of `BatchNormalization` no longer exists. `mode=1` and `mode=2` are no longer supported.\""
   ]
  },
  {
   "cell_type": "code",
   "execution_count": 71,
   "metadata": {},
   "outputs": [],
   "source": [
    "# My own Keras layer for BatchNormalization with mode 2 supports.\n",
    "# What is mode 2? feature-wise normalization. https://faroit.github.io/keras-docs/1.2.2/layers/normalization/\n",
    "# Keras 2.0 removed batch norm mode 2. See 2.0 release notes: https://github.com/keras-team/keras/wiki/Keras-2.0-release-notes#batchnormalization\n",
    "# https://github.com/keras-team/keras/issues/5892#issuecomment-332534932\n",
    "# Asking for migration docs for this change: https://github.com/keras-team/keras/issues/3756\n",
    "import normalization_mode2; importlib.reload(normalization_mode2)\n",
    "from normalization_mode2 import *"
   ]
  },
  {
   "cell_type": "markdown",
   "metadata": {},
   "source": [
    "### End of Migrations to Keras 2\n",
    "\n",
    "---"
   ]
  },
  {
   "cell_type": "code",
   "execution_count": 73,
   "metadata": {},
   "outputs": [],
   "source": [
    "CNN_G = Sequential([\n",
    "    Dense(512*7*7, input_dim=100),\n",
    "    act, # Changed for Keras 2 API\n",
    "    # BatchNormalization(mode=2),\n",
    "    BatchNormalizationMode2(mode=2), # Changed for Keras 2 API\n",
    "    Reshape((7, 7, 512)),\n",
    "    UpSampling2D(),\n",
    "    Conv2D(64, (3, 3), padding='same'), # Changed for Keras 2 API\n",
    "    act, # Changed for Keras 2 API\n",
    "    # BatchNormalization(mode=2),\n",
    "    BatchNormalizationMode2(mode=2), # Changed for Keras 2 API\n",
    "    UpSampling2D(),\n",
    "    Conv2D(32, (3, 3), padding='same'), # Changed for Keras 2 API\n",
    "    act, # Changed for Keras 2 API\n",
    "    #BatchNormalization(mode=2),\n",
    "    BatchNormalizationMode2(mode=2), # Changed for Keras 2 API\n",
    "    Conv2D(1, (1, 1), padding='same', activation='sigmoid') # Changed for Keras 2 API\n",
    "])"
   ]
  },
  {
   "cell_type": "markdown",
   "metadata": {},
   "source": [
    "The discriminator uses a few downsampling steps through strided convolutions."
   ]
  },
  {
   "cell_type": "code",
   "execution_count": 76,
   "metadata": {},
   "outputs": [],
   "source": [
    "CNN_D = Sequential([\n",
    "    Conv2D(256, (5, 5), padding='same', input_shape=(28, 28, 1), strides=(2, 2)), # Changed for Keras 2 API\n",
    "    act, # Changed for Keras 2 API\n",
    "    Conv2D(512, (5, 5), padding='same', strides=(2, 2)), # Changed for Keras 2 API\n",
    "    act, # Changed for Keras 2 API\n",
    "    Flatten(),\n",
    "    Dense(256),\n",
    "    act, # Changed for Keras 2 API\n",
    "    Dense(1, activation='sigmoid')\n",
    "])\n",
    "CNN_D.compile(Adam(1e-3), 'binary_crossentropy')"
   ]
  },
  {
   "cell_type": "markdown",
   "metadata": {},
   "source": [
    "We train D a \"little bit\" so it can at least tell a real image from random noise."
   ]
  },
  {
   "cell_type": "code",
   "execution_count": 78,
   "metadata": {},
   "outputs": [
    {
     "name": "stdout",
     "output_type": "stream",
     "text": [
      "Epoch 1/1\n",
      " - 1s - loss: 0.0283\n"
     ]
    },
    {
     "data": {
      "text/plain": [
       "<keras.callbacks.History at 0x7f0a9fe4ff28>"
      ]
     },
     "execution_count": 78,
     "metadata": {},
     "output_type": "execute_result"
    }
   ],
   "source": [
    "sz = n // 200\n",
    "x1 = np.concatenate([np.random.permutation(X_train)[:sz], CNN_G.predict(noise(sz))])\n",
    "CNN_D.fit(x1, [0]*sz + [1]*sz, batch_size=128, epochs=1, verbose=2)"
   ]
  },
  {
   "cell_type": "code",
   "execution_count": 79,
   "metadata": {},
   "outputs": [],
   "source": [
    "CNN_m = Sequential([CNN_G, CNN_D])\n",
    "CNN_m.compile(Adam(1e-3), 'binary_crossentropy')"
   ]
  },
  {
   "cell_type": "code",
   "execution_count": 81,
   "metadata": {},
   "outputs": [],
   "source": [
    "K.set_value(CNN_D.optimizer.lr, 1e-3)\n",
    "K.set_value(CNN_m.optimizer.lr, 1e-3)"
   ]
  },
  {
   "cell_type": "markdown",
   "metadata": {},
   "source": [
    "Now we can train D & G iteratively."
   ]
  },
  {
   "cell_type": "code",
   "execution_count": 82,
   "metadata": {},
   "outputs": [
    {
     "name": "stderr",
     "output_type": "stream",
     "text": [
      "  0%|          | 0/2500 [00:00<?, ?it/s]/usr/local/lib/python3.6/dist-packages/keras/engine/training.py:975: UserWarning: Discrepancy between trainable weights and collected trainable weights, did you set `model.trainable` without calling `model.compile` after ?\n",
      "  'Discrepancy between trainable weights and collected trainable'\n",
      "100%|██████████| 2500/2500 [12:23<00:00,  3.36it/s]\n"
     ]
    }
   ],
   "source": [
    "dl, gl = train(CNN_D, CNN_G, CNN_m, 2500)"
   ]
  },
  {
   "cell_type": "code",
   "execution_count": 83,
   "metadata": {},
   "outputs": [
    {
     "data": {
      "text/plain": [
       "[<matplotlib.lines.Line2D at 0x7f0abdb29b00>]"
      ]
     },
     "execution_count": 83,
     "metadata": {},
     "output_type": "execute_result"
    },
    {
     "data": {
      "image/png": "[encoded data removed]",
      "text/plain": [
       "<matplotlib.figure.Figure at 0x7f0abdc35048>"
      ]
     },
     "metadata": {},
     "output_type": "display_data"
    }
   ],
   "source": [
    "plt.plot(dl[10:])"
   ]
  },
  {
   "cell_type": "code",
   "execution_count": 84,
   "metadata": {},
   "outputs": [
    {
     "data": {
      "text/plain": [
       "[<matplotlib.lines.Line2D at 0x7f0a93dc3ba8>]"
      ]
     },
     "execution_count": 84,
     "metadata": {},
     "output_type": "execute_result"
    },
    {
     "data": {
      "image/png": "[encoded data removed]",
      "text/plain": [
       "<matplotlib.figure.Figure at 0x7f0a93dd88d0>"
      ]
     },
     "metadata": {},
     "output_type": "display_data"
    }
   ],
   "source": [
    "plt.plot(gl[10:])"
   ]
  },
  {
   "cell_type": "markdown",
   "metadata": {},
   "source": [
    "Better than our first effort, but still a lot to be desired..."
   ]
  },
  {
   "cell_type": "code",
   "execution_count": 85,
   "metadata": {},
   "outputs": [
    {
     "data": {
      "image/png": "[encoded data removed]",
      "text/plain": [
       "<matplotlib.figure.Figure at 0x7f0a948bee48>"
      ]
     },
     "metadata": {},
     "output_type": "display_data"
    }
   ],
   "source": [
    "plot_gen(CNN_G)"
   ]
  },
  {
   "cell_type": "markdown",
   "metadata": {},
   "source": [
    "### End"
   ]
  },
  {
   "cell_type": "code",
   "execution_count": null,
   "metadata": {},
   "outputs": [],
   "source": []
  }
 ],
 "metadata": {
  "kernelspec": {
   "display_name": "Python 3",
   "language": "python",
   "name": "python3"
  },
  "language_info": {
   "codemirror_mode": {
    "name": "ipython",
    "version": 3
   },
   "file_extension": ".py",
   "mimetype": "text/x-python",
   "name": "python",
   "nbconvert_exporter": "python",
   "pygments_lexer": "ipython3",
   "version": "3.6.5"
  }
 },
 "nbformat": 4,
 "nbformat_minor": 2
}
